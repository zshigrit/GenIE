{
 "cells": [
  {
   "cell_type": "markdown",
   "metadata": {},
   "source": [
    "- abstract type: soil, pools, elements\n",
    "- abstract type: parameters, soil and plant, "
   ]
  },
  {
   "cell_type": "code",
   "execution_count": 1,
   "metadata": {},
   "outputs": [],
   "source": [
    "## note1: qom_dom was put in flux!(DOM) and struct DOM \n",
    "using Plots\n",
    "using UnPack\n",
    "using DataFrames"
   ]
  },
  {
   "cell_type": "code",
   "execution_count": 2,
   "metadata": {},
   "outputs": [
    {
     "data": {
      "text/plain": [
       "SoilPar"
      ]
     },
     "metadata": {},
     "output_type": "display_data"
    }
   ],
   "source": [
    "Base.@kwdef mutable struct SoilPar\n",
    "    \"parameters\"\n",
    "    fRa::Float64 = 0.2\n",
    "    fINP::Float64 = 0.3\n",
    "    vd_pomo::Float64   = 50.0\n",
    "    vd_pomh::Float64   = 50.0\n",
    "    vd_mom::Float64    = vd_pomh * 0.01\n",
    "    ks_pomo::Float64   = 60.0\n",
    "    fKM::Float64       = 10.0\n",
    "    ks_pomh::Float64   = ks_pomo/fKM\n",
    "    ks_mom::Float64    = ks_pomo * fKM\n",
    "    Qmax::Float64      = 1.5\n",
    "    Kba::Float64       = 6.0 \n",
    "    Kdes::Float64      = 0.006 \n",
    "    Kads::Float64      = Kdes * Kba    \n",
    "    Kp2u::Float64      = 0.000005\n",
    "    Ku2p::Float64      = 0.001\n",
    "    rENZM::Float64     = 0.00012289\n",
    "    rENZPo::Float64    = rENZM\n",
    "    rENZPh::Float64    = rENZM\n",
    "    pENZP::Float64     = 0.00147568\n",
    "    fpEM::Float64      = 4.50361918\n",
    "    pENZM::Float64     = pENZP * fpEM    \n",
    "    frPOM2DOM::Float64 = 0.75\n",
    "    frMB2DOM::Float64  = 0.5\n",
    "    frMBA_to_POMo::Float64 = 0.1\n",
    "    frMBA_to_POMh::Float64 = 0.9\n",
    "    Vg::Float64        = 0.00425194\n",
    "    alpha::Float64     = 0.05012233\n",
    "    Vm::Float64        = Vg * alpha/(1.0 - alpha)\n",
    "    KsDOM::Float64     = 0.00010034\n",
    "    Yg::Float64        = 0.20109320 \n",
    "    Ygsl::Float64      = 0.00520677\n",
    "    CUE_slope::Float64 = -1.0*Ygsl\n",
    "    Q10::Float64       = 1.8\n",
    "    gamma::Float64     = 0.01030726\n",
    "    rMORT::Float64     = min(0.99,Vm * gamma)\n",
    "    beta::Float64      = 0.001\n",
    "    VmD::Float64       = Vm * beta\n",
    "    VmA2D::Float64     = Vm #* tp_scalar * wp_scalar_low\n",
    "    VmD2A::Float64     = Vm #* tp_scalar * wp_scalar\n",
    "    SWP_A2D::Float64   = 0.46\n",
    "    tau::Float64       = 0.39\n",
    "    SWP_D2A::Float64   = tau * SWP_A2D\n",
    "    wdorm::Float64     = 3.38\n",
    "    VNup_MB::Float64   = 0.1\n",
    "    VNup_VG::Float64   = 0.00003296\n",
    "    rNleach::Float64   = 0.02\n",
    "    bNup_VG::Float64   = 0.5\n",
    "    KsNH4_MB::Float64  = 0.00018\n",
    "    KsNO3_MB::Float64  = 0.00041\n",
    "    # YgN = sPAR%YgN        = phi \n",
    "    Qmax_NH4::Float64  = 0.0057442\n",
    "    Kba_NH4::Float64   = 100.0\n",
    "    KsNH4_VG::Float64  = 0.0012\n",
    "    KsNO3_VG::Float64  = 0.0018\n",
    "    fpENZN::Float64    = 1.0\n",
    "    VNif::Float64      = 0.0635041\n",
    "    VNit::Float64      = 185.28188371\n",
    "    VDenit::Vector{Float64} = [0.86952628,0.86952628,0.86952628,0.86952628]\n",
    "    # VDenit(1) = 0.86952628\n",
    "    # VDenit(2) = 0.86952628\n",
    "    # VDenit(3) = 0.86952628\n",
    "    # VDenit(4) = 0.86952628\n",
    "    KsNif::Float64 = 0.1\n",
    "    KsNit::Float64 = 0.0012\n",
    "    KsDenit::Vector{Float64} = [0.0018,0.0018,0.0018,0.0018]\n",
    "    # KsDenit(1) = 0.0018\n",
    "    # KsDenit(2) = 0.0018\n",
    "    # KsDenit(3) = 0.0018\n",
    "    # KsDenit(4) = 0.0018 \n",
    "    \n",
    "end"
   ]
  },
  {
   "cell_type": "code",
   "execution_count": 3,
   "metadata": {},
   "outputs": [],
   "source": [
    "mutable struct Elements{FT<:AbstractFloat}\n",
    "    c::FT\n",
    "    n::FT\n",
    "    p::FT \n",
    "end\n",
    "\n",
    "struct Pools\n",
    "    POMo::Elements\n",
    "    POMh::Elements\n",
    "    MOM ::Elements\n",
    "    DOM ::Elements\n",
    "    QOM ::Elements\n",
    "    MBA ::Elements \n",
    "    MBD ::Elements\n",
    "    EPO ::Elements \n",
    "    EPH ::Elements \n",
    "    EM  ::Elements \n",
    "end\n",
    "\n",
    "mutable struct CPools{FT<:AbstractFloat}\n",
    "    POMo::FT\n",
    "    POMh::FT\n",
    "    MOM ::FT\n",
    "    DOM ::FT\n",
    "    QOM ::FT\n",
    "    MBA ::FT \n",
    "    MBD ::FT\n",
    "    EPO ::FT \n",
    "    EPH ::FT \n",
    "    EM  ::FT \n",
    "end\n",
    "\n",
    "mutable struct NPools{FT<:AbstractFloat}\n",
    "    POMo::FT\n",
    "    POMh::FT\n",
    "    MOM ::FT\n",
    "    DOM ::FT\n",
    "    QOM ::FT\n",
    "    MBA ::FT \n",
    "    MBD ::FT\n",
    "    EPO ::FT \n",
    "    EPH ::FT \n",
    "    EM  ::FT \n",
    "end\n",
    "\n",
    "mutable struct PPools{FT<:AbstractFloat}\n",
    "    POMo::FT\n",
    "    POMh::FT\n",
    "    MOM ::FT\n",
    "    DOM ::FT\n",
    "    QOM ::FT\n",
    "    MBA ::FT \n",
    "    MBD ::FT\n",
    "    EPO ::FT \n",
    "    EPH ::FT \n",
    "    EM  ::FT \n",
    "end\n",
    "\n",
    "mutable struct CNPools{FT<:AbstractFloat}\n",
    "    POMo::FT\n",
    "    POMh::FT\n",
    "    MOM ::FT\n",
    "    DOM ::FT\n",
    "    QOM ::FT\n",
    "    MBA ::FT \n",
    "    MBD ::FT\n",
    "    EPO ::FT \n",
    "    EPH ::FT \n",
    "    EM  ::FT \n",
    "end"
   ]
  },
  {
   "cell_type": "code",
   "execution_count": 4,
   "metadata": {},
   "outputs": [],
   "source": [
    "## adding layers \n",
    "Base.@kwdef struct SoilLayersX{FT<:AbstractFloat}\n",
    "    layer1::Array{FT,1} = [0.0,10.0] # in centimeter\n",
    "    layer2::Array{FT,1} = [10.0,30.0]\n",
    "    layer3::Array{FT,1} = [30.0,50.0]\n",
    "    layer4::Array{FT,1} = [50.0,70.0]\n",
    "    layer5::Array{FT,1} = [70.0,100.0]\n",
    "end"
   ]
  },
  {
   "cell_type": "code",
   "execution_count": 5,
   "metadata": {},
   "outputs": [
    {
     "data": {
      "text/plain": [
       "Flux_MBD"
      ]
     },
     "metadata": {},
     "output_type": "display_data"
    }
   ],
   "source": [
    "Base.@kwdef mutable struct Flux_POMo\n",
    "    pomo_dom::Float64 = 0.0\n",
    "    pomo_mom::Float64 = 0.0\n",
    "end\n",
    "\n",
    "Base.@kwdef mutable struct Flux_POMh\n",
    "    pomh_dom::Float64 = 0.0\n",
    "    pomh_mom::Float64 = 0.0\n",
    "end\n",
    "\n",
    "Base.@kwdef mutable struct Flux_MOM \n",
    "    mom_dom::Float64 = 0.0\n",
    "end\n",
    "\n",
    "Base.@kwdef mutable struct Flux_DOM \n",
    "    dom_mba::Float64 = 0.0\n",
    "    dom_qom::Float64 = 0.0\n",
    "    qom_dom::Float64 = 0.0\n",
    "end\n",
    "\n",
    "\n",
    "Base.@kwdef mutable struct Flux_MBA \n",
    "    co2_maintn::Float64 = 0.0\n",
    "    co2_growth::Float64 = 0.0\n",
    "    mba_pomh::Float64 = 0.0\n",
    "    mba_pomo::Float64 = 0.0\n",
    "    mba_dom::Float64 = 0.0\n",
    "    mba_mbd::Float64 = 0.0\n",
    "    mba_eph::Float64 = 0.0\n",
    "    mba_epo::Float64 = 0.0\n",
    "    mba_em::Float64 = 0.0\n",
    "end\n",
    "\n",
    "Base.@kwdef mutable struct Flux_MBD\n",
    "    mbd_mba::Float64 = 0.0\n",
    "    co2_maintn::Float64 = 0.0\n",
    "end\n"
   ]
  },
  {
   "cell_type": "code",
   "execution_count": 6,
   "metadata": {},
   "outputs": [
    {
     "data": {
      "text/plain": [
       "MM (generic function with 5 methods)"
      ]
     },
     "metadata": {},
     "output_type": "display_data"
    }
   ],
   "source": [
    "##1 all Michaelis-Menten equations\n",
    "\n",
    "function MM(par::SoilPar,pools::CPools,flux::Flux_POMo) \n",
    "    @unpack vd_pomo, ks_pomo  = par\n",
    "    @unpack POMo, EPO = pools\n",
    "    vm = vd_pomo   \n",
    "    km = ks_pomo\n",
    "    substrate = POMo\n",
    "    enzyme = EPO \n",
    "        \n",
    "    MM = vm * substrate * enzyme/(km + substrate)\n",
    "    MM = min(MM, substrate)\n",
    "    return MM\n",
    "end\n",
    "\n",
    "function MM(par::SoilPar,pools::CPools,flux::Flux_POMh) \n",
    "    @unpack vd_pomh, ks_pomh  = par\n",
    "    @unpack POMh, EPH = pools\n",
    "    vm = vd_pomh   \n",
    "    km = ks_pomh\n",
    "    substrate = POMh\n",
    "    enzyme = EPH \n",
    "        \n",
    "    MM = vm * substrate * enzyme/(km + substrate)\n",
    "    MM = min(MM, substrate)\n",
    "    return MM\n",
    "end\n",
    "\n",
    "function MM(par::SoilPar,pools::CPools,flux::Flux_MOM) \n",
    "    @unpack vd_mom, ks_mom  = par\n",
    "    @unpack MOM, EM = pools\n",
    "    vm = vd_mom   \n",
    "    km = ks_mom\n",
    "    substrate = MOM\n",
    "    enzyme = EM \n",
    "        \n",
    "    MM = vm * substrate * enzyme/(km + substrate)\n",
    "    MM = min(MM, substrate)\n",
    "    return MM\n",
    "end\n",
    "\n",
    "function MM(par::SoilPar,pools::CPools,flux::Flux_DOM) \n",
    "    @unpack Vg, Vm, Yg, KsDOM  = par\n",
    "    @unpack DOM, MBA = pools\n",
    "    vm = (Vg + Vm)/Yg    \n",
    "    km = KsDOM\n",
    "    substrate = DOM\n",
    "    enzyme = MBA\n",
    "        \n",
    "    MM = vm * substrate * enzyme/(km + substrate)\n",
    "    MM = min(MM, substrate)\n",
    "    return MM\n",
    "end\n",
    "\n",
    "function MM(par::SoilPar,pools::CPools,flux::Flux_MBA) \n",
    "    @unpack Vg, Yg, KsDOM, Vm  = par\n",
    "    @unpack MBA,DOM = pools\n",
    "    enzyme    = MBA \n",
    "    substrate = DOM\n",
    "    vm = Vg * (1.0/Yg - 1.0)   \n",
    "    km = KsDOM\n",
    "        \n",
    "    MM_growth = vm * substrate * enzyme/(km + substrate)\n",
    "    MM_growth = min(MM_growth, substrate)\n",
    "\n",
    "    vm = Vm * (1.0/Yg - 1.0)\n",
    "    MM_maintn = vm * substrate * enzyme/(km + substrate)\n",
    "    MM_maintn = min(MM_maintn, substrate)\n",
    "    return MM_growth, MM_maintn\n",
    "end\n"
   ]
  },
  {
   "cell_type": "code",
   "execution_count": 7,
   "metadata": {},
   "outputs": [
    {
     "data": {
      "text/plain": [
       "Flux! (generic function with 6 methods)"
      ]
     },
     "metadata": {},
     "output_type": "display_data"
    }
   ],
   "source": [
    "##2 develop functions: Fluxes\n",
    "\n",
    "function Flux!(par::SoilPar,pools::CPools,flux::Flux_POMo)\n",
    "    @unpack frPOM2DOM = par\n",
    "    pomo_dec = MM(par,pools,flux)\n",
    "    pomo_dom = frPOM2DOM * pomo_dec\n",
    "    pomo_mom = (1.0 - frPOM2DOM) * pomo_dec  \n",
    "\n",
    "    flux.pomo_dom = pomo_dom\n",
    "    flux.pomo_mom = pomo_mom \n",
    "    return pomo_dom,pomo_mom  \n",
    "end\n",
    "\n",
    "function Flux!(par::SoilPar,pools::CPools,flux::Flux_POMh)\n",
    "    @unpack frPOM2DOM = par\n",
    "    pomh_dec = MM(par,pools,flux)\n",
    "    pomh_dom = frPOM2DOM * pomh_dec\n",
    "    pomh_mom = (1.0 - frPOM2DOM) * pomh_dec \n",
    "\n",
    "    flux.pomh_dom = pomh_dom\n",
    "    flux.pomh_mom = pomh_mom \n",
    "    return pomh_dom,pomh_mom  \n",
    "end\n",
    "\n",
    "function Flux!(par::SoilPar,pools::CPools,flux::Flux_MOM)\n",
    "    mom_dec      = MM(par,pools,flux)\n",
    "    mom_dom      = mom_dec\n",
    "\n",
    "    flux.mom_dom = mom_dom\n",
    "    return mom_dom \n",
    "end\n",
    "\n",
    "function Flux!(par::SoilPar,pools::CPools,flux::Flux_DOM)\n",
    "    @unpack DOM,QOM = pools \n",
    "    @unpack Kads,Qmax,Kdes = par\n",
    "    dom_dec = MM(par,pools,flux)\n",
    "    dom_mba = dom_dec \n",
    "    \n",
    "    # ========================\n",
    "    # ads,des = AdsDesorption(par,pools) \n",
    "    _DOM = DOM - dom_mba # the preference given to microbial uptake then ad_de\n",
    "    adsorbate = _DOM\n",
    "    adsorbent = QOM\n",
    "    ads = Kads * adsorbate * (1.0 - adsorbent/Qmax)\n",
    "    des = Kdes * adsorbent / Qmax\n",
    "    if des > (adsorbent + ads)\n",
    "        des = adsorbent + ads \n",
    "    elseif ads > adsorbate + des \n",
    "        ads = adsorbate + des\n",
    "    end \n",
    "    # ========================\n",
    "    dom_qom = ads  \n",
    "    qom_dom = des\n",
    "\n",
    "    flux.dom_mba = dom_mba\n",
    "    flux.dom_qom = dom_qom\n",
    "    flux.qom_dom = qom_dom\n",
    "    return dom_mba, dom_qom, qom_dom \n",
    "end\n",
    "\n",
    "function Flux!(par::SoilPar,pools::CPools,flux::Flux_MBA)\n",
    "    @unpack rMORT, frMB2DOM, frMBA_to_POMh, frMBA_to_POMo, KsDOM, VmA2D = par\n",
    "    @unpack MBA,DOM = pools \n",
    "    mb = MBA\n",
    "    mba_mortality= rMORT * mb\n",
    "    mba_dom   = frMB2DOM * mba_mortality\n",
    "    mba_pomh   = (1.0 - frMB2DOM) * mba_mortality * frMBA_to_POMh\n",
    "    mba_pomo   = (1.0 - frMB2DOM) * mba_mortality * frMBA_to_POMo\n",
    "    \n",
    "    phi = DOM/(DOM + KsDOM)\n",
    "    mba_mbd = (1.0 - phi) * VmA2D * mb\n",
    "    mba_CO2_growth, mba_CO2_maintn = MM(par,pools,flux) # Respiration of MBA\n",
    "\n",
    "    flux.mba_dom        = mba_dom\n",
    "    flux.mba_pomo       = mba_pomo\n",
    "    flux.mba_pomh       = mba_pomh\n",
    "    flux.mba_mbd        = mba_mbd\n",
    "    flux.co2_growth = mba_CO2_growth\n",
    "    flux.co2_maintn = mba_CO2_maintn\n",
    "    return mba_mortality,mba_dom,mba_pomo,mba_pomh,mba_mbd,mba_CO2_growth,mba_CO2_maintn\n",
    "end\n",
    "\n",
    "function Flux!(par::SoilPar,pools::CPools,flux::Flux_MBD) # Respiration of MBD and resurcitaion\n",
    "    @unpack KsDOM,VmD2A,VmD = par\n",
    "    @unpack DOM,MBD = pools\n",
    "    phi = DOM/(DOM + KsDOM)\n",
    "    mbd_mba = phi * VmD2A * MBD\n",
    "    mbd_CO2_maintn = VmD * MBD \n",
    "\n",
    "    flux.mbd_mba        = mbd_mba\n",
    "    flux.co2_maintn = mbd_CO2_maintn\n",
    "    return mbd_mba, mbd_CO2_maintn\n",
    "end\n",
    "\n",
    "\n"
   ]
  },
  {
   "cell_type": "code",
   "execution_count": 8,
   "metadata": {},
   "outputs": [
    {
     "data": {
      "text/plain": [
       "EnzymeTurnover (generic function with 1 method)"
      ]
     },
     "metadata": {},
     "output_type": "display_data"
    }
   ],
   "source": [
    "## 3 developing functions: enzymes\n",
    "\n",
    "function EnzymeProduction(par::SoilPar,pools::CPools)\n",
    "    @unpack pENZP, Vm, pENZM = par\n",
    "    @unpack MBA,POMo,POMh = pools \n",
    "    \n",
    "    frPOMh = POMh/(POMh + POMo)\n",
    "    mba_enzph = frPOMh * pENZP * Vm * MBA\n",
    "    mba_enzpo = (1-frPOMh) * pENZP * Vm * MBA\n",
    "    mba_enzm =  pENZM * Vm * MBA\n",
    "    return mba_enzph, mba_enzpo, mba_enzm \n",
    "end \n",
    "\n",
    "function EnzymeTurnover(par::SoilPar,pools::CPools)\n",
    "    epo_dom = par.rENZPo * pools.EPO\n",
    "    eph_dom = par.rENZPh * pools.EPH\n",
    "    em_dom  = par.rENZM * pools.EM\n",
    "    return epo_dom,eph_dom,em_dom\n",
    "end\n"
   ]
  },
  {
   "cell_type": "code",
   "execution_count": 9,
   "metadata": {},
   "outputs": [
    {
     "data": {
      "text/plain": [
       "CPools! (generic function with 1 method)"
      ]
     },
     "metadata": {},
     "output_type": "display_data"
    }
   ],
   "source": [
    "##4 developing functions: carbon pools \n",
    "function CPools!(par::SoilPar,pools::CPools)\n",
    "    @unpack POMo,POMh,MOM,DOM,QOM,MBA,MBD,EPO,EPH,EM = pools\n",
    "    # @unpack EPO,EPH,EM = pools\n",
    "\n",
    "    pomo_dec = MM(par,pools,flux_pomo); pomh_dec = MM(par,pools,flux_pomh);\n",
    "    mom_dec = MM(par,pools,flux_mom); dom_dec = MM(par,pools,flux_dom);\n",
    "\n",
    "    pomo_dom,pomo_mom = Flux!(par,pools,flux_pomo)\n",
    "    pomh_dom,pomh_mom = Flux!(par,pools,flux_pomh)\n",
    "    dom_mba, dom_qom, qom_dom = Flux!(par,pools,flux_dom)\n",
    "    \n",
    "    mba_mortality, mba_dom, mba_pomo, mba_pomh,\n",
    "    mba_mbd, mba_CO2_growth, mba_CO2_maintn = \n",
    "    Flux!(par,pools,flux_mba);\n",
    "\n",
    "    mbd_mba, mbd_CO2_maintn = Flux!(par,pools,flux_mbd)\n",
    "\n",
    "    epo_dom,eph_dom,em_dom = EnzymeTurnover(par,pools)\n",
    "\n",
    "    mba_eph, mba_epo, mba_em = EnzymeProduction(par,pools)\n",
    "\n",
    "    pools.POMo = POMo - pomo_dec + mba_pomo + litter_pomo\n",
    "    pools.POMh = POMh - pomh_dec + mba_pomh + litter_pomh\n",
    "    pools.MOM = MOM - mom_dec + pomo_mom + pomh_mom \n",
    "    pools.DOM = (DOM - dom_dec - dom_qom + qom_dom + litter_dom + pomh_dom \n",
    "                + pomo_dom + mba_dom + epo_dom + eph_dom + em_dom)\n",
    "    pools.QOM = QOM - qom_dom + dom_qom\n",
    "\n",
    "    pools.MBA = (MBA - mba_mortality - mba_mbd - mba_CO2_growth \n",
    "                - mba_CO2_maintn + dom_mba + mbd_mba\n",
    "                - mba_eph - mba_epo - mba_em)\n",
    "\n",
    "    pools.MBD = MBD - mbd_mba - mbd_CO2_maintn + mba_mbd\n",
    "\n",
    "    pools.EPO = EPO + mba_epo - epo_dom\n",
    "    pools.EPH = EPH + mba_eph - eph_dom\n",
    "    pools.EM = EM + mba_em - em_dom\n",
    "    \n",
    "    return nothing \n",
    "end"
   ]
  },
  {
   "cell_type": "code",
   "execution_count": 10,
   "metadata": {},
   "outputs": [
    {
     "data": {
      "text/plain": [
       "VaryTraitsDepth! (generic function with 1 method)"
      ]
     },
     "metadata": {},
     "output_type": "display_data"
    }
   ],
   "source": [
    "function VaryTraitsDepth!(par::SoilPar,sl::SoilLayersX,ilayer::Integer)\n",
    "    @unpack vd_pomh,vd_pomo,vd_mom = par \n",
    "    @unpack Yg, Vg, Vm, Q10 = par\n",
    "    @unpack layer1,layer2,layer3,layer4,layer5 = sl\n",
    "    nlayers = 5\n",
    "    if ilayer==1\n",
    "        par.vd_pomh = vd_pomh * (100.0-layer1[1])/100.0  # assume a linear decrease with depth  \n",
    "        par.vd_pomo = par.vd_pomh\n",
    "        par.vd_mom = 0.01 * par.vd_pomh\n",
    "\n",
    "        par.Yg = Yg * (100.0-layer1[1])/100.0\n",
    "    elseif ilayer==2\n",
    "        par.vd_pomh = vd_pomh * (100.0-layer2[1])/100.0\n",
    "        par.vd_pomo = par.vd_pomh\n",
    "        par.vd_mom = 0.01 * par.vd_pomh\n",
    "\n",
    "        par.Yg = Yg * (100.0-layer2[1])/100.0\n",
    "    elseif ilayer==3\n",
    "        par.vd_pomh = vd_pomh * (100.0-layer3[1])/100.0\n",
    "        par.vd_pomo = par.vd_pomh\n",
    "        par.vd_mom = 0.01 * par.vd_pomh\n",
    "\n",
    "        par.Yg = Yg * (100.0-layer3[1])/100.0\n",
    "    elseif ilayer==4\n",
    "        par.vd_pomh = vd_pomh * (100.0-layer4[1])/100.0\n",
    "        par.vd_pomo = par.vd_pomh\n",
    "        par.vd_mom = 0.01 * par.vd_pomh\n",
    "\n",
    "        par.Yg = Yg * (100.0-layer4[1])/100.0\n",
    "    elseif ilayer==5\n",
    "        par.vd_pomh = vd_pomh * (100.0-layer5[1])/100.0\n",
    "        par.vd_pomo = par.vd_pomh\n",
    "        par.vd_mom = 0.01 * par.vd_pomh\n",
    "\n",
    "        par.Yg = Yg * (100.0-layer5[1])/100.0\n",
    "    else\n",
    "        par.vd_pomh = vd_pomh\n",
    "        par.vd_pomo = vd_pomo\n",
    "        par.vd_mom  = vd_mom\n",
    "        par.Yg      = Yg\n",
    "    end\n",
    "    return nothing\n",
    "end"
   ]
  },
  {
   "cell_type": "code",
   "execution_count": 11,
   "metadata": {},
   "outputs": [
    {
     "data": {
      "text/plain": [
       "fTQ10 (generic function with 2 methods)"
      ]
     },
     "metadata": {},
     "output_type": "display_data"
    }
   ],
   "source": [
    "# temperature dependence \n",
    "function fTQ10(T, Q10, Tref=20.0)\n",
    "    fTQ10 = Q10^((T-Tref)/10.0)\n",
    "end\n"
   ]
  },
  {
   "cell_type": "code",
   "execution_count": 12,
   "metadata": {},
   "outputs": [
    {
     "data": {
      "text/plain": [
       "InitCInputs (generic function with 1 method)"
      ]
     },
     "metadata": {},
     "output_type": "display_data"
    }
   ],
   "source": [
    "##5 Initialize the model\n",
    "\"\"\"\n",
    "parameters altered with depth\n",
    "\"\"\"\n",
    "\n",
    "# parameterization\n",
    "function InitParDepth!(par::SoilPar,ilayer)\n",
    "    sl = SoilLayersX()\n",
    "    VaryTraitsDepth!(par,sl,ilayer)\n",
    "    # VaryTraitsClima!(par,sl,ilayer)\n",
    "    return nothing\n",
    "end\n",
    "\n",
    "function InitCPools(ilayer)\n",
    "    # initial carbon pool\n",
    "    allocationcoeff = [0.35,0.3,0.2,0.1,0.05,1.0]\n",
    "    soc = 1.578 * allocationcoeff[ilayer] # mg/cm3 \n",
    "    poc = 0.377 * allocationcoeff[ilayer]; \n",
    "    poc_o = poc * LF0; poc_h = poc * (1.0 - LF0); \n",
    "\n",
    "    moc = 1.064 * allocationcoeff[ilayer];\n",
    "    qoc = moc * fQOM; \n",
    "\n",
    "    doc = 0.137 * allocationcoeff[ilayer];\n",
    "\n",
    "    mbc = 0.033 * allocationcoeff[ilayer]; \n",
    "    mbc_a = mbc * r0; mbc_d = mbc * (1.0 - r0);\n",
    "\n",
    "    epo = 6.0e-5\n",
    "    eph = 6.0e-5\n",
    "    em  = 6.0e-5\n",
    "\n",
    "    # _CPools = CPools(10000.,10000.,2000.,200.,120.,100.,150.,0.1,0.1,0.1)\n",
    "    cpools = CPools(poc_o,poc_h,moc,doc,qoc,mbc_a,mbc_d,epo,eph,em)\n",
    "    return cpools\n",
    "end\n",
    "\n",
    "function InitCInputs(ilayer)\n",
    "    ## carbon input\n",
    "    # litter_pomo = 100000.0/365.0/24.0 * 0.5\n",
    "    # litter_pomh = 100000.0/365.0/24.0 * 0.25\n",
    "    # litter_dom = 100000.0/365.0/24.0 * 0.25\n",
    "    allocationcoeff = [0.35,0.3,0.2,0.1,0.05,1.0]\n",
    "\n",
    "    SIN_day_str = readlines(\"./SIN_day.dat\") # unit: mgC-cm2-d\n",
    "\n",
    "    SIN_day = parse.(Float64, SIN_day_str) # string to numeric\n",
    "\n",
    "    SIN_day = SIN_day[3:end]\n",
    "\n",
    "    SIN_hour = SIN_day ./24\n",
    "\n",
    "    SIN_input = SIN_hour .* par.fINP;\n",
    "\n",
    "    depth = 100.0 # cm\n",
    "\n",
    "    # 0.07, 0.37, 0.56 # fraction type I\n",
    "    f_l_pomo = 0.07 # to be added to parameter list \n",
    "    f_l_pomh = 0.37 # to be added to parameter list\n",
    "    f_l_dom = 0.56 # to be added to parameter list\n",
    "    litter_pomo_array = SIN_input .* f_l_pomo/depth * allocationcoeff[ilayer];\n",
    "    litter_pomh_array = SIN_input .* f_l_pomh/depth * allocationcoeff[ilayer];\n",
    "    litter_dom_array  = SIN_input .* f_l_dom/depth * allocationcoeff[ilayer]; \n",
    "    return litter_pomo_array,litter_pomh_array,litter_dom_array\n",
    "end\n"
   ]
  },
  {
   "cell_type": "code",
   "execution_count": 13,
   "metadata": {},
   "outputs": [
    {
     "data": {
      "text/plain": [
       "create_dataframe (generic function with 2 methods)"
      ]
     },
     "metadata": {},
     "output_type": "display_data"
    }
   ],
   "source": [
    "## create dataframe to store output \n",
    "\n",
    "function create_dataframe(FT,ncycle,nyear)#(FT,weather::DataFrame)\n",
    "    \n",
    "    df    = DataFrame();\n",
    "   \n",
    "    df[!, \"Time\"  ] = zeros(ncycle*nyear*365);\n",
    "    df[!, \"POMh\" ] .= FT(0);\n",
    "    df[!, \"POMo\" ] .= FT(0);\n",
    "    df[!, \"MOM\"  ] .= FT(0);\n",
    "    df[!, \"DOM\"  ] .= FT(0);\n",
    "    df[!, \"QOM\"    ] .= FT(0);\n",
    "\n",
    "    \n",
    "    df[!, \"MBA\"   ] .= FT(0);\n",
    "    df[!, \"MBD\"] .= FT(0);\n",
    "\n",
    "    return df\n",
    "end\n",
    "\n",
    "function create_dataframe(FT,nlayer)#(FT,weather::DataFrame)\n",
    "    \n",
    "    df    = DataFrame();\n",
    "   \n",
    "    df[!, \"Layer\"  ] = zeros(nlayer+1);\n",
    "    df[!, \"POMh\" ] .= FT(0);\n",
    "    df[!, \"POMo\" ] .= FT(0);\n",
    "    df[!, \"MOM\"  ] .= FT(0);\n",
    "    df[!, \"DOM\"  ] .= FT(0);\n",
    "    df[!, \"QOM\"  ] .= FT(0);\n",
    "\n",
    "    \n",
    "    df[!, \"MBA\"] .= FT(0);\n",
    "    df[!, \"MBD\"] .= FT(0);\n",
    "\n",
    "    return df\n",
    "end"
   ]
  },
  {
   "cell_type": "code",
   "execution_count": 14,
   "metadata": {},
   "outputs": [
    {
     "data": {
      "text/plain": [
       "ModRunDepth! (generic function with 1 method)"
      ]
     },
     "metadata": {},
     "output_type": "display_data"
    }
   ],
   "source": [
    "##7: model run with depth\n",
    "\n",
    "function ModRunDepth!(par::SoilPar,cpools::CPools,ilayer::Integer)\n",
    "    \n",
    "    for icycle = 1:ncycle\n",
    "        for iday = 1:365*nyear\n",
    "            for ihour = 1:24\n",
    "                global litter_pomo = litter_pomo_array[iday]\n",
    "                global litter_pomh = litter_pomh_array[iday]\n",
    "                global litter_dom = litter_dom_array[iday]\n",
    "                \n",
    "                CPools!(par,cpools)\n",
    "                \n",
    "            end\n",
    "        end \n",
    "    end\n",
    "    output_ly[ilayer,\"Layer\"] = ilayer\n",
    "    output_ly[ilayer,\"POMh\"] = cpools.POMh\n",
    "    output_ly[ilayer,\"POMo\"] = cpools.POMo\n",
    "    output_ly[ilayer,\"MOM\"] = cpools.MOM\n",
    "    output_ly[ilayer,\"DOM\"] = cpools.DOM\n",
    "    output_ly[ilayer,\"QOM\"] = cpools.QOM\n",
    "    output_ly[ilayer,\"MBA\"] = cpools.MBA\n",
    "    output_ly[ilayer,\"MBD\"] = cpools.MBD\n",
    "end \n",
    "\n"
   ]
  },
  {
   "cell_type": "code",
   "execution_count": 19,
   "metadata": {},
   "outputs": [],
   "source": [
    "## main program\n",
    "\"\"\"\n",
    "note: there are in total 5 soil layers;\n",
    "however, I add the 6th layer as a default for whole soil porfile\n",
    "for comparison.\n",
    "\"\"\"\n",
    "\n",
    "nyear=10;ncycle=1;nlayer=5;\n",
    "output_ly = create_dataframe(AbstractFloat,nlayer);\n",
    "\n",
    "# flux initilization (default values are 0s)\n",
    "flux_pomo = Flux_POMo();flux_pomh = Flux_POMh();\n",
    "flux_mom = Flux_MOM(); \n",
    "flux_dom = Flux_DOM(); # note: qom is wrapped in dom\n",
    "flux_mba = Flux_MBA(); flux_mbd = Flux_MBD();\n",
    "\n",
    "# parameters to be added \n",
    "LF0 = 0.1\n",
    "r0 = 0.01\n",
    "fQOM = 0.05\n",
    "\n",
    "for ilayer = 1:nlayer+1\n",
    "    par = SoilPar();InitParDepth!(par,ilayer)\n",
    "    cpools = InitCPools(ilayer)\n",
    "    global litter_pomo_array,litter_pomh_array,litter_dom_array = InitCInputs(ilayer)\n",
    "    ModRunDepth!(par,cpools,ilayer)\n",
    "end\n"
   ]
  },
  {
   "cell_type": "code",
   "execution_count": 23,
   "metadata": {},
   "outputs": [
    {
     "data": {
      "text/plain": [
       "6-element Vector{Float64}:\n",
       " 0.6947014048226233\n",
       " 0.6123623552186268\n",
       " 0.4395055239019534\n",
       " 0.24723367478076136\n",
       " 0.14362105698107522\n",
       " 1.933844585211709"
      ]
     },
     "metadata": {},
     "output_type": "display_data"
    }
   ],
   "source": [
    "## data processing\n",
    "\n",
    "output_ly\n",
    "output_ly[:,\"SOM\"] = output_ly[:,\"POMh\"] + output_ly[:,\"POMo\"] + output_ly[:,\"MOM\"]\n",
    "output_ly[!,:\"SOM\"]"
   ]
  },
  {
   "cell_type": "code",
   "execution_count": 24,
   "metadata": {},
   "outputs": [
    {
     "data": {
      "text/plain": [
       "5-element Vector{Float64}:\n",
       " 0.6947065601457774\n",
       " 0.6123666340655303\n",
       " 0.45257092897560003\n",
       " 0.27586216721458134\n",
       " 0.1581311145879919"
      ]
     },
     "metadata": {},
     "output_type": "display_data"
    }
   ],
   "source": [
    "## plots\n",
    "soc_total = output_ly.POMo + output_ly.POMh + output_ly.MOM + output_ly.DOM \n",
    "# x=1:length(soc_total); y = soc_total[1:end] \n",
    "# plot(x[1:end], y,label=false)\n",
    "# savefig(\"test4_soc_CPools.png\")"
   ]
  },
  {
   "cell_type": "code",
   "execution_count": null,
   "metadata": {},
   "outputs": [],
   "source": [
    "using StatsPlots\n",
    "groupedbar([l1 l2 l3 l4 l5],\n",
    "            bar_position = :stack,\n",
    "            bar_width=0.7)"
   ]
  },
  {
   "cell_type": "code",
   "execution_count": null,
   "metadata": {},
   "outputs": [],
   "source": [
    "\n",
    "change1=push!(change1,soc_total[end])\n"
   ]
  },
  {
   "cell_type": "code",
   "execution_count": null,
   "metadata": {},
   "outputs": [],
   "source": [
    "# df = DataFrame(layer1 = Float64[], layer2 = Float64[],\n",
    "#                layer3 = Float64[], layer4 = Float64[],\n",
    "#                layer5 = Float64[])\n",
    "# df = DataFrame()#(change0 = Float64[], change1 = Float64[])\n",
    "# push!(df,[1,2,3,4,5])\n",
    "# df[:,\"change0\"] = change0 # depth-independence\n",
    "# df[:,\"change1\"] = change1 # depth-dependence\n",
    "# a = [df.change0 ./ sum(df.change0)]\n",
    "# b = [df.change1 ./ sum(df.change1)]\n",
    "l1 = [df.change0[1]/ sum(df.change0),df.change1[1]/ sum(df.change1)]\n",
    "l2 = [df.change0[2]/ sum(df.change0),df.change1[2]/ sum(df.change1)]\n",
    "l3 = [df.change0[3]/ sum(df.change0),df.change1[3]/ sum(df.change1)]\n",
    "l4 = [df.change0[4]/ sum(df.change0),df.change1[4]/ sum(df.change1)]\n",
    "l5 = [df.change0[5]/ sum(df.change0),df.change1[5]/ sum(df.change1)]\n",
    "\n",
    "l1 = [df.change0[1],df.change1[1]]\n",
    "l2 = [df.change0[2],df.change1[2]]\n",
    "l3 = [df.change0[3],df.change1[3]]\n",
    "l4 = [df.change0[4],df.change1[4]]\n",
    "l5 = [df.change0[5],df.change1[5]]\n"
   ]
  },
  {
   "cell_type": "code",
   "execution_count": null,
   "metadata": {},
   "outputs": [],
   "source": [
    "# import Pkg; Pkg.add(\"StatsPlots\")\n",
    "# using StatsPlots\n",
    "groupedbar([l1 l2 l3 l4 l5],\n",
    "            bar_position = :stack,\n",
    "            bar_width=0.7)"
   ]
  },
  {
   "cell_type": "code",
   "execution_count": null,
   "metadata": {},
   "outputs": [],
   "source": [
    "# function CPools!(par::SoilPar,pools::CPools,flux::)\n",
    "#     @unpack POMo,POMh,MOM,DOM,QOM,MBA,MBD = pools\n",
    "#     @unpack EPO,EPH,EM = pools\n",
    "\n",
    "#     # par::SoilPar,pools::CPools,flux::POMo\n",
    "#     pomo_dec = MM(par,pools,flux::POMo); pomh_dec = MM_pomh(par,pools);\n",
    "#     mom_dec = MM_mom(par,pools); dom_dec = MM_dom(par,pools);\n",
    "\n",
    "#     pomo_dom,pomo_mom = Flux_pomo(par,pools)\n",
    "#     pomh_dom,pomh_mom = Flux_pomh(par,pools)\n",
    "#     dom_mba, dom_qom, qom_dom = Flux_dqom(par,pools)\n",
    "    \n",
    "#     mba_mortality, mba_dom, mba_pomo, mba_pomh,\n",
    "#     mba_mbd, mba_CO2_growth, mba_CO2_maintn = \n",
    "#     Flux_mba(par,pools);\n",
    "\n",
    "#     mbd_mba, mbd_CO2_maintn = Flux_mbd(par,pools)\n",
    "\n",
    "#     epo_dom,eph_dom,em_dom = EnzymeTurnover(par,pools)\n",
    "\n",
    "#     mba_eph, mba_epo, mba_em = EnzymeProduction(par,pools)\n",
    "\n",
    "#     pools.POMo = POMo - pomo_dec + mba_pomo + litter_pomo\n",
    "#     pools.POMh = POMh - pomh_dec + mba_pomh + litter_pomh\n",
    "#     pools.MOM = MOM - mom_dec + pomo_mom + pomh_mom \n",
    "#     pools.DOM = (DOM - dom_dec + qom_dom + litter_dom + pomh_dom \n",
    "#                 + pomo_dom + mba_dom + epo_dom + eph_dom + em_dom)\n",
    "#     pools.QOM = QOM - qom_dom + dom_qom\n",
    "\n",
    "#     pools.MBA = (MBA - mba_mortality - mba_mbd - mba_CO2_growth \n",
    "#                 - mba_CO2_maintn + dom_mba + mbd_mba\n",
    "#                 - mba_eph - mba_epo - mba_em)\n",
    "\n",
    "#     pools.MBD = MBD - mbd_mba - mbd_CO2_maintn + mba_mbd\n",
    "\n",
    "#     pools.EPO = EPO + mba_epo - epo_dom\n",
    "#     pools.EPH = EPH + mba_eph - eph_dom\n",
    "#     pools.EM = EM + mba_em - em_dom\n",
    "    \n",
    "#     return nothing \n",
    "# end"
   ]
  },
  {
   "cell_type": "code",
   "execution_count": null,
   "metadata": {},
   "outputs": [],
   "source": [
    "a = [1,2]\n",
    "b = 3\n",
    "function ttt()\n",
    "    a[2]=200\n",
    "    b = 5\n",
    "    return b\n",
    "end\n",
    "\n",
    "b = ttt()\n",
    "println(a)\n",
    "println(b)\n"
   ]
  },
  {
   "cell_type": "code",
   "execution_count": null,
   "metadata": {},
   "outputs": [],
   "source": [
    "function test(a,b)\n",
    "    c = a+b+d \n",
    "    return c\n",
    "end \n",
    "\n",
    "d = 5\n",
    "\n",
    "test(2,3)\n"
   ]
  },
  {
   "cell_type": "code",
   "execution_count": null,
   "metadata": {},
   "outputs": [],
   "source": [
    "## Initialize the model\n",
    "soc = 1.578 # mg/cm3 \n",
    "poc = 0.377 \n",
    "moc = 1.064\n",
    "doc = 0.137\n",
    "mbc = 0.033\n",
    "epo = 6.0e-5\n",
    "eph = 6.0e-5\n",
    "em  = 6.0e-5\n",
    "fQOM = 0.05\n",
    "\n",
    "CPools1 = CPools(10000.,10000.,2000.,200.,120.,100.,150.,0.1,0.1,0.1)\n",
    "\n",
    "## carbon input\n",
    "litter_pomo = 100000.0/365.0/24.0 * 0.5\n",
    "litter_pomh = 100000.0/365.0/24.0 * 0.25\n",
    "litter_dom = 100000.0/365.0/24.0 * 0.25\n",
    "\n",
    "## parameterization\n",
    "par = SoilPar();"
   ]
  },
  {
   "cell_type": "code",
   "execution_count": null,
   "metadata": {},
   "outputs": [],
   "source": [
    "for iday = 1:10\n",
    "    for ihour = 1:24\n",
    "        CPools!(par,CPools1)\n",
    "    end\n",
    "end "
   ]
  },
  {
   "cell_type": "code",
   "execution_count": null,
   "metadata": {},
   "outputs": [],
   "source": [
    "CPools1"
   ]
  },
  {
   "cell_type": "code",
   "execution_count": null,
   "metadata": {},
   "outputs": [],
   "source": [
    "CPools1"
   ]
  },
  {
   "cell_type": "code",
   "execution_count": null,
   "metadata": {},
   "outputs": [],
   "source": [
    "\n",
    "using Plots\n",
    " \n",
    "x = [i for i = 1:100]\n",
    "y = x\n",
    " \n",
    "anim = @animate for i = 1:length(x)\n",
    "    scatter!([x[i]], [y[i]], legend=false)\n",
    "end\n",
    " \n",
    "gif(anim, \"tutorial_anim_fps100.gif\", fps = 30)"
   ]
  },
  {
   "cell_type": "code",
   "execution_count": null,
   "metadata": {},
   "outputs": [],
   "source": []
  }
 ],
 "metadata": {
  "kernelspec": {
   "display_name": "Julia 1.7.1",
   "language": "julia",
   "name": "julia-1.7"
  },
  "language_info": {
   "file_extension": ".jl",
   "mimetype": "application/julia",
   "name": "julia",
   "version": "1.7.1"
  },
  "orig_nbformat": 4
 },
 "nbformat": 4,
 "nbformat_minor": 2
}
