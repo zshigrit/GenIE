{
 "cells": [
  {
   "cell_type": "code",
   "execution_count": null,
   "metadata": {},
   "outputs": [],
   "source": [
    "mutable struct Pools{FT<:AbstractFloat}\n",
    "    POMo::FT\n",
    "    POMh::FT\n",
    "    MOM ::FT\n",
    "    DOM ::FT\n",
    "    QOM ::FT\n",
    "    MBA ::FT \n",
    "    MBD ::FT\n",
    "    EPO ::FT \n",
    "    EPH ::FT \n",
    "    EM  ::FT \n",
    "    # PTT ::FT # protist \n",
    "    # VIR ::FT # virus\n",
    "end\n",
    "\n"
   ]
  },
  {
   "cell_type": "code",
   "execution_count": null,
   "metadata": {},
   "outputs": [],
   "source": [
    "struct Flux_POMo end \n",
    "struct Flux_POMh end \n",
    "struct Flux_MOM end\n",
    "struct Flux_DOM end\n",
    "struct Flux_MBA end\n",
    "struct Flux_MBD end\n",
    "\n",
    "Base.@kwdef mutable struct Fluxes{FT<:AbstractFloat}\n",
    "    pomo_dom ::FT = 0.0\n",
    "    pomo_mom ::FT = 0.0\n",
    "    pomh_dom ::FT = 0.0\n",
    "    pomh_mom ::FT = 0.0\n",
    "    mom_dom ::FT  = 0.0\n",
    "    dom_mba ::FT  = 0.0\n",
    "    dom_qom ::FT  = 0.0\n",
    "    qom_dom ::FT  = 0.0\n",
    "    co2_maintn_mba ::FT = 0.0\n",
    "    co2_growth     ::FT = 0.0\n",
    "    mba_pomh ::FT = 0.0\n",
    "    mba_pomo ::FT = 0.0\n",
    "    mba_dom  ::FT = 0.0\n",
    "    mba_mbd  ::FT = 0.0\n",
    "    mba_eph  ::FT = 0.0\n",
    "    mba_epo  ::FT = 0.0\n",
    "    mba_em   ::FT = 0.0\n",
    "    mbd_mba  ::FT = 0.0\n",
    "    co2_maintn_mbd ::FT = 0.0\n",
    "end"
   ]
  },
  {
   "cell_type": "code",
   "execution_count": 6,
   "metadata": {},
   "outputs": [
    {
     "data": {
      "text/plain": [
       "3-element Vector{Any}:\n",
       " #undef\n",
       " #undef\n",
       " #undef"
      ]
     },
     "metadata": {},
     "output_type": "display_data"
    }
   ],
   "source": [
    "CN_Litter = Vector(undef,3); # 1:litter cn to pomo; 2: litter cn to pomh; 3: litter cn to DOM "
   ]
  },
  {
   "cell_type": "code",
   "execution_count": null,
   "metadata": {},
   "outputs": [],
   "source": [
    "rCN_LIG2LAB = sINI%dINI(26)\n",
    "\n",
    "sINI % CN_LITT(2) = const_CN_Cellulose\n",
    "sINI % CN_WOOD(2) = const_CN_Cellulose\n",
    "sINI % CN_ROOT(2) = const_CN_Cellulose\n",
    "\n",
    "! sINI % CN_LITT(1) = frac(1)/(1.D0/sINI%CN_LITT_avg - frac(3)/sINI % CN_LITT(3) - frac(2)/sINI % CN_LITT(2))\n",
    "frac = sINI%SIN_frac\n",
    "sINI % CN_LITT(3) = (frac(1)/rCN_LIG2LAB + frac(3))/(1.D0/sINI%CN_LITT_avg - frac(2)/sINI % CN_LITT(2))\n",
    "sINI % CN_LITT(1) = sINI % CN_LITT(3)*rCN_LIG2LAB"
   ]
  },
  {
   "cell_type": "code",
   "execution_count": null,
   "metadata": {},
   "outputs": [],
   "source": [
    "##4 developing functions: carbon pools \n",
    "\n",
    "function NPools!(par::SoilPar,cpools::Pools,cfluxes::Fluxes,input_c,\n",
    "                 npools::Pools,nfluxes::Fluxes,cnpools::Pools,CN_Litter)\n",
    "\"\"\"\n",
    "organic nitrogen balance\n",
    "\"\"\"\n",
    "    @unpack POMo,POMh,MOM,DOM,QOM,MBA,MBD,EPO,EPH,EM = cpools\n",
    "    # @unpack EPO,EPH,EM = pools\n",
    "    litter_pomo = input_c.litter_pomo_array/CN_Litter[1] \n",
    "    litter_pomh = input_c.litter_pomh_array/CN_Litter[2]\n",
    "    litter_dom = input_c.litter_dom_array/CN_Litter[3]\n",
    "\n",
    "    pomo_dec = MM(par,cpools,Flux_POMo)/cnpools.POMo; pomh_dec = MM(par,cpools,Flux_POMh)/cnpools.POMh;\n",
    "    mom_dec = MM(par,cpools,Flux_MOM)/cnpools.MOM; dom_dec = MM(par,cpools,Flux_DOM)/cnpools.DOM;\n",
    "\n",
    "    pomo_dom,pomo_mom = Flux!(par,cpools,fluxes,Flux_POMo); \n",
    "    pomo_dom = pomo_dom/cnpools.POMo;\n",
    "    pomo_mom = pomo_mom/cnpools.POMo;\n",
    "    \n",
    "    pomh_dom,pomh_mom = Flux!(par,cpools,fluxes,Flux_POMh); \n",
    "    dom_mba, dom_qom, qom_dom = Flux!(par,pools,fluxes,Flux_DOM)\n",
    "    \n",
    "    mba_mortality, mba_dom, mba_pomo, mba_pomh,\n",
    "    mba_mbd, mba_CO2_growth, mba_CO2_maintn = \n",
    "    Flux!(par,pools,fluxes,Flux_MBA);\n",
    "\n",
    "    mbd_mba, mbd_CO2_maintn = Flux!(par,pools,fluxes,Flux_MBD)\n",
    "\n",
    "    epo_dom,eph_dom,em_dom = EnzymeTurnover(par,pools)\n",
    "\n",
    "    mba_eph, mba_epo, mba_em = EnzymeProduction(par,pools)\n",
    "\n",
    "    pools.POMo = POMo - pomo_dec + mba_pomo + litter_pomo\n",
    "    pools.POMh = POMh - pomh_dec + mba_pomh + litter_pomh\n",
    "    pools.MOM = MOM - mom_dec + pomo_mom + pomh_mom \n",
    "    pools.DOM = (DOM - dom_dec - dom_qom + qom_dom + litter_dom + pomh_dom \n",
    "                + pomo_dom + mba_dom + epo_dom + eph_dom + em_dom)\n",
    "    pools.QOM = QOM - qom_dom + dom_qom\n",
    "\n",
    "    pools.MBA = (MBA - mba_mortality - mba_mbd - mba_CO2_growth \n",
    "                - mba_CO2_maintn + dom_mba + mbd_mba\n",
    "                - mba_eph - mba_epo - mba_em)\n",
    "\n",
    "    pools.MBD = MBD - mbd_mba - mbd_CO2_maintn + mba_mbd\n",
    "\n",
    "    pools.EPO = EPO + mba_epo - epo_dom\n",
    "    pools.EPH = EPH + mba_eph - eph_dom\n",
    "    pools.EM = EM + mba_em - em_dom\n",
    "    \n",
    "    return nothing \n",
    "end"
   ]
  }
 ],
 "metadata": {
  "kernelspec": {
   "display_name": "Julia 1.7.2",
   "language": "julia",
   "name": "julia-1.7"
  },
  "language_info": {
   "file_extension": ".jl",
   "mimetype": "application/julia",
   "name": "julia",
   "version": "1.7.2"
  },
  "orig_nbformat": 4
 },
 "nbformat": 4,
 "nbformat_minor": 2
}
