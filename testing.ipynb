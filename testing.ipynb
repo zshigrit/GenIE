{
 "cells": [
  {
   "cell_type": "markdown",
   "metadata": {},
   "source": [
    "Note 1. VmA2D & VmD2A for now using Vm; in MEND, they are modified by water\n",
    "        temperature scalar\n",
    "        sPAR % VmA2D = sPARbase%Vm * tp_scalar*wp_scalar_low (L2108)\n",
    "        sPAR % VmD2A = sPARbase%Vm * tp_scalar*wp_scalar (L2109)"
   ]
  },
  {
   "cell_type": "code",
   "execution_count": 1,
   "metadata": {},
   "outputs": [],
   "source": [
    "using UnPack\n"
   ]
  },
  {
   "cell_type": "code",
   "execution_count": 2,
   "metadata": {},
   "outputs": [
    {
     "data": {
      "text/plain": [
       "MBD"
      ]
     },
     "metadata": {},
     "output_type": "display_data"
    }
   ],
   "source": [
    "## 1 develop struct for soil \n",
    "Base.@kwdef mutable struct SoilPool\n",
    "    carbon::Float64 \n",
    "    nitrogen::Float64 \n",
    "    phosphorus::Float64 \n",
    "end\n",
    "Base.@kwdef mutable struct SoilPar\n",
    "    \"parameters\"\n",
    "    fRa::Float64 = 0.2\n",
    "    fINP::Float64 = 0.3\n",
    "    vd_pomo::Float64   = 50.0\n",
    "    vd_pomh::Float64   = 50.0\n",
    "    vd_mom::Float64    = vd_pomh * 0.01\n",
    "    ks_pomo::Float64   = 60.0\n",
    "    fKM::Float64       = 10.0\n",
    "    ks_pomh::Float64   = ks_pomo/fKM\n",
    "    ks_mom::Float64    = ks_pomo * fKM\n",
    "    Qmax::Float64      = 1.5\n",
    "    Kba::Float64       = 6.0 \n",
    "    Kdes::Float64      = 0.006 \n",
    "    Kads::Float64      = Kdes * Kba    \n",
    "    Kp2u::Float64      = 0.000005\n",
    "    Ku2p::Float64      = 0.001\n",
    "    rENZM::Float64     = 0.00012289\n",
    "    rENZPo::Float64    = rENZM\n",
    "    rENZPh::Float64    = rENZM\n",
    "    pENZP::Float64     = 0.00147568\n",
    "    fpEM::Float64      = 4.50361918\n",
    "    pENZM::Float64     = pENZP * fpEM    \n",
    "    frPOM2DOM::Float64 = 0.75\n",
    "    frMB2DOM::Float64  = 0.5\n",
    "    frMBA_to_POMo::Float64 = 0.1\n",
    "    frMBA_to_POMh::Float64 = 0.9\n",
    "    Vg::Float64        = 0.00425194\n",
    "    alpha::Float64     = 0.05012233\n",
    "    Vm::Float64        = Vg * alpha/(1.0 - alpha)\n",
    "    KsDOM::Float64     = 0.00010034\n",
    "    Yg::Float64        = 0.20109320 \n",
    "    Ygsl::Float64      = 0.00520677\n",
    "    CUE_slope::Float64 = -1.0*Ygsl\n",
    "    Q10::Float64       = 1.8\n",
    "    gamma::Float64     = 0.01030726\n",
    "    rMORT::Float64     = min(0.99,Vm * gamma)\n",
    "    beta::Float64      = 0.001\n",
    "    VmD::Float64       = Vm * beta\n",
    "    VmA2D::Float64     = Vm #* tp_scalar * wp_scalar_low\n",
    "    VmD2A::Float64     = Vm #* tp_scalar * wp_scalar\n",
    "    SWP_A2D::Float64   = 0.46\n",
    "    tau::Float64       = 0.39\n",
    "    SWP_D2A::Float64   = tau * SWP_A2D\n",
    "    wdorm::Float64     = 3.38\n",
    "    VNup_MB::Float64   = 0.1\n",
    "    VNup_VG::Float64   = 0.00003296\n",
    "    rNleach::Float64   = 0.02\n",
    "    bNup_VG::Float64   = 0.5\n",
    "    KsNH4_MB::Float64  = 0.00018\n",
    "    KsNO3_MB::Float64  = 0.00041\n",
    "    # YgN = sPAR%YgN        = phi \n",
    "    Qmax_NH4::Float64  = 0.0057442\n",
    "    Kba_NH4::Float64   = 100.0\n",
    "    KsNH4_VG::Float64  = 0.0012\n",
    "    KsNO3_VG::Float64  = 0.0018\n",
    "    fpENZN::Float64    = 1.0\n",
    "    VNif::Float64      = 0.0635041\n",
    "    VNit::Float64      = 185.28188371\n",
    "    VDenit::Vector{Float64} = [0.86952628,0.86952628,0.86952628,0.86952628]\n",
    "    # VDenit(1) = 0.86952628\n",
    "    # VDenit(2) = 0.86952628\n",
    "    # VDenit(3) = 0.86952628\n",
    "    # VDenit(4) = 0.86952628\n",
    "    KsNif::Float64 = 0.1\n",
    "    KsNit::Float64 = 0.0012\n",
    "    KsDenit::Vector{Float64} = [0.0018,0.0018,0.0018,0.0018]\n",
    "    # KsDenit(1) = 0.0018\n",
    "    # KsDenit(2) = 0.0018\n",
    "    # KsDenit(3) = 0.0018\n",
    "    # KsDenit(4) = 0.0018 \n",
    "    \n",
    "end\n",
    "\n",
    "Base.@kwdef mutable struct POMo\n",
    "    carbon::Float64\n",
    "    nitrogen::Float64\n",
    "    phosphorus::Float64\n",
    "    enzyme::Float64\n",
    "end\n",
    "\n",
    "Base.@kwdef mutable struct POMh\n",
    "    carbon::Float64\n",
    "    nitrogen::Float64\n",
    "    phosphorus::Float64\n",
    "    enzyme::Float64\n",
    "end\n",
    "\n",
    "Base.@kwdef mutable struct MOM\n",
    "    carbon::Float64\n",
    "    nitrogen::Float64\n",
    "    phosphorus::Float64\n",
    "    enzyme::Float64 \n",
    "end\n",
    "\n",
    "Base.@kwdef mutable struct DOM\n",
    "    carbon::Float64\n",
    "    nitrogen::Float64\n",
    "    phosphorus::Float64\n",
    "    # enzyme::Float64 \n",
    "end\n",
    "\n",
    "Base.@kwdef mutable struct QOM\n",
    "    carbon::Float64\n",
    "    nitrogen::Float64\n",
    "    phosphorus::Float64\n",
    "end\n",
    "\n",
    "Base.@kwdef mutable struct MBA\n",
    "    carbon::Float64\n",
    "    nitrogen::Float64\n",
    "    phosphorus::Float64\n",
    "end\n",
    "\n",
    "Base.@kwdef mutable struct MBD\n",
    "    carbon::Float64\n",
    "    nitrogen::Float64\n",
    "    phosphorus::Float64\n",
    "end"
   ]
  },
  {
   "cell_type": "code",
   "execution_count": 3,
   "metadata": {},
   "outputs": [
    {
     "data": {
      "text/plain": [
       "MM (generic function with 5 methods)"
      ]
     },
     "metadata": {},
     "output_type": "display_data"
    }
   ],
   "source": [
    "## 2 develop functions: Michaelis Menten\n",
    "\n",
    "function MM(par::SoilPar,pool::POMo) \n",
    "    @unpack vd_pomo, ks_pomo  = par\n",
    "    @unpack carbon, enzyme = pool\n",
    "    vm = vd_pomo   \n",
    "    km = ks_pomo\n",
    "    substrate = carbon\n",
    "        \n",
    "    MM = vm * substrate * enzyme/(km + substrate)\n",
    "    MM = min(MM, substrate)\n",
    "    return MM\n",
    "end\n",
    "\n",
    "function MM(par::SoilPar,pool::POMh) \n",
    "    @unpack vd_pomh, ks_pomh  = par\n",
    "    @unpack carbon, enzyme = pool\n",
    "    vm = vd_pomh   \n",
    "    km = ks_pomh\n",
    "    substrate = carbon\n",
    "        \n",
    "    MM = vm * substrate * enzyme/(km + substrate)\n",
    "    MM = min(MM, substrate)\n",
    "    return MM\n",
    "end\n",
    "\n",
    "function MM(par::SoilPar,pool::MOM) \n",
    "    @unpack vd_mom, ks_mom  = par\n",
    "    @unpack carbon, enzyme = pool\n",
    "    vm = vd_mom   \n",
    "    km = ks_mom\n",
    "    substrate = carbon\n",
    "        \n",
    "    MM = vm * substrate * enzyme/(km + substrate)\n",
    "    MM = min(MM, substrate)\n",
    "    return MM\n",
    "end\n",
    "\n",
    "function MM(par::SoilPar,pool::DOM) \n",
    "    @unpack Vg, Vm, Yg, KsDOM  = par\n",
    "    @unpack carbon, enzyme = pool\n",
    "    vm = (Vg + Vm)/Yg    \n",
    "    km = KsDOM\n",
    "    substrate = carbon\n",
    "        \n",
    "    MM = vm * substrate * enzyme/(km + substrate)\n",
    "    MM = min(MM, substrate)\n",
    "    return MM\n",
    "end\n",
    "\n",
    "function MM(par::SoilPar,dom::DOM,mba::MBA) \n",
    "    @unpack Vg, Yg, KsDOM, Vm  = par\n",
    "    enzyme    = mba.carbon \n",
    "    substrate = dom.carbon\n",
    "    vm = Vg * (1.0/Yg - 1.0)   \n",
    "    km = KsDOM\n",
    "        \n",
    "    MM_growth = vm * substrate * enzyme/(km + substrate)\n",
    "    MM_growth = min(MM_growth, substrate)\n",
    "\n",
    "    vm = Vm * (1.0/Yg - 1.0)\n",
    "    MM_maintn = vm * substrate * enzyme/(km + substrate)\n",
    "    MM_maintn = min(MM_maintn, substrate)\n",
    "    return MM_growth, MM_maintn\n",
    "end\n"
   ]
  },
  {
   "cell_type": "code",
   "execution_count": 4,
   "metadata": {},
   "outputs": [
    {
     "data": {
      "text/plain": [
       "Flux (generic function with 6 methods)"
      ]
     },
     "metadata": {},
     "output_type": "display_data"
    }
   ],
   "source": [
    "## 3 develop functions: Fluxes\n",
    "\n",
    "function Flux(par::SoilPar,pool::POMo)\n",
    "    @unpack frPOM2DOM = par\n",
    "    pom_dec = MM(par,pool)\n",
    "    pom_dom = frPOM2DOM * pom_dec\n",
    "    pom_mom = (1.0 - frPOM2DOM) * pom_dec  \n",
    "    return pom_dom,pom_mom  \n",
    "end\n",
    "\n",
    "function Flux(par::SoilPar,pool::POMh)\n",
    "    @unpack frPOM2DOM = par\n",
    "    pom_dec = MM(par,pool)\n",
    "    pom_dom = frPOM2DOM * pom_dec\n",
    "    pom_mom = (1.0 - frPOM2DOM) * pom_dec \n",
    "    return pom_dom,pom_mom   \n",
    "end\n",
    "\n",
    "function Flux(par::SoilPar,mom::MOM)\n",
    "    mom_dec = MM(par,mom)\n",
    "    mom_dom = mom_dec\n",
    "    return mom_dom \n",
    "end\n",
    "\n",
    "function Flux(par::SoilPar,dom::DOM, qom::QOM)\n",
    "    dom_dec = MM(par,dom)\n",
    "    dom_mba = dom_dec \n",
    "    dom.carbon = dom.carbon - dom_mba # the preference given to microbial uptake then ad_de\n",
    "    ads,des = AdsDesorption(par, dom::DOM, qom::QOM)\n",
    "    dom_qom = ads  \n",
    "    qom_dom = des\n",
    "    return dom_qom, qom_dom \n",
    "end\n",
    "\n",
    "function Flux(par::SoilPar,mba::MBA,dom::DOM)\n",
    "    @unpack rMORT, frMB2DOM, frMBA_to_POMh, frMBA_to_POMo, KsDOM, VmA2D = par\n",
    "    @unpack carbon = mba \n",
    "    mb = carbon\n",
    "    mba_mortality= rMORT * mb\n",
    "    mba_dom   = frMB2DOM * mba_mortality\n",
    "    mba_pomh   = (1.0 - frMB2DOM) * mba_mortality * frMBA_to_POMh\n",
    "    mba_pomo   = (1.0 - frMB2DOM) * mba_mortality * frMBA_to_POMo\n",
    "    \n",
    "    phi = dom.carbon/(dom.carbon + KsDOM)\n",
    "    mba_mbd = (1.0 - phi) * VmA2D * mb\n",
    "    mba_CO2_growth, mba_CO2_maintn = MM(par,mba,dom) # Respiration of MBA\n",
    "end\n",
    "\n",
    "function Flux(par::SoilPar,mbd::MBD,dom::DOM) # Respiration of MBD and resurcitaion\n",
    "    @unpack KsDOM,VmD2A,VmD = par\n",
    "    phi = dom.carbon/(dom.carbon + KsDOM)\n",
    "    mbd_mba = phi * VmD2A * mbd.carbon\n",
    "    mbd_CO2_maintn = VmD * mbd.carbon \n",
    "end\n",
    "\n"
   ]
  },
  {
   "cell_type": "code",
   "execution_count": 5,
   "metadata": {},
   "outputs": [
    {
     "data": {
      "text/plain": [
       "EnzymeProduction (generic function with 1 method)"
      ]
     },
     "metadata": {},
     "output_type": "display_data"
    }
   ],
   "source": [
    "## 3 developing functions: assorted\n",
    "# adsorption and desorption; microbial dormancy and resuscitation\n",
    "\n",
    "\n",
    "function AdsDesorption(par, pool1::DOM, pool2::QOM)\n",
    "    @unpack Kads,Qmax,Kdes = par\n",
    "    @unpack carbon = pool1\n",
    "    adsorbate = carbon\n",
    "    @unpack carbon = pool2 \n",
    "    adsorbent = carbon\n",
    "    ads = Kads * adsorbate * (1.0 - adsorbent/Qmax)\n",
    "    des = Kdes * adsorbent / Qmax\n",
    "    if des > (adsorbent + ads)\n",
    "        des = adsorbent + ads \n",
    "    elseif ads > adsorbate + des \n",
    "        ads = adsorbate + des\n",
    "    end \n",
    "    return ads,des \n",
    "end\n",
    "\n",
    "# function DorResus()\n",
    "# end\n",
    "\n",
    "function EnzymeProduction(par::SoilPar,pool::MBA,pomo::POMo,pomh::POMh)\n",
    "    @unpack pENZP, Vm, pENZM = par\n",
    "    @unpack carbon = pool \n",
    "    mb = carbon \n",
    "    frPOMh = pomh.carbon/(pomh.carbon + pomo.carbon)\n",
    "    mba_enzph = frPOMh * pENZP * Vm * mb\n",
    "    mba_enzpo = (1-frPOMh) * pENZP * Vm * mb\n",
    "    mba_enzm =  pENZM * Vm * mb\n",
    "    return mba_enzph, mba_enzpo, mab_enzm \n",
    "end \n",
    "\n",
    "function EnzymeTurnover(par::SoilPar,pomo::POMo)\n",
    "    epo_dom = par.rENZPo * pomo.enzyme\n",
    "end\n",
    "\n",
    "function EnzymeTurnover(par::SoilPar,pomh::POMh)\n",
    "    eph_dom = par.rENZPh * pomh.enzyme\n",
    "end\n",
    "\n",
    "function EnzymeTurnover(par::SoilPar,mom::MOM)\n",
    "    em_dom  = par.rENZM * mom.enzyme\n",
    "end"
   ]
  },
  {
   "cell_type": "code",
   "execution_count": null,
   "metadata": {},
   "outputs": [],
   "source": [
    "# Base.@kwdef mutable struct POMo0\n",
    "#     carbon::Float64=1\n",
    "#     nitrogen::Float64\n",
    "#     phosphorus::Float64\n",
    "#     enzyme::Float64\n",
    "# end"
   ]
  },
  {
   "cell_type": "code",
   "execution_count": 6,
   "metadata": {},
   "outputs": [
    {
     "data": {
      "text/plain": [
       "MBD(1000.0, 150.0, 15.0)"
      ]
     },
     "metadata": {},
     "output_type": "display_data"
    }
   ],
   "source": [
    "## 4 Initial condition & carbon input\n",
    "pomo = POMo(4000.,400.,40.,2.)\n",
    "pomh = POMh(2000.,100.,5.,1.)\n",
    "mom = MOM(5000.,1000.,200.,10.)\n",
    "dom = DOM(200., 10., 1.)\n",
    "qom = QOM(500.,100.,20.)\n",
    "mba = MBA(1000.,150.,15.,)\n",
    "mbd = MBD(1000.,150.,15.,)\n",
    "\n",
    "litter_pomo = 1000.0/365.0/24.0 * 0.5\n",
    "litter_pomh = 1000.0/365.0/24.0 * 0.25\n",
    "litter_dom = 1000.0/365.0/24.0 * 0.25\n"
   ]
  },
  {
   "cell_type": "code",
   "execution_count": 10,
   "metadata": {},
   "outputs": [
    {
     "name": "stdout",
     "output_type": "stream",
     "text": [
      "1.5"
     ]
    }
   ],
   "source": [
    "# Temporal dynamics\n",
    "for iday = 1:15\n",
    "    for ihour = 1:24\n",
    "        pomo = pomo - pomo_dec + mba_pomo + litter_pomo\n",
    "        pomh = pomh - pomh_dec + mba_pomh + litter_pomh \n",
    "        mom = mom - mom_dec + pomo_mom + pomh_mom \n",
    "        dom = (dom - dom_dec + qom_dom + litter_dom + pomh_dom \n",
    "                + pomo_dom + mba_dom + epo_dom + eph_dom + em_dom)\n",
    "        qom = qom - qom_dom + dom_qom \n",
    "        mba = (mba - mba_mortality - mba_mbd - mba_CO2_growth - mba_CO2_maintn\n",
    "                + dom_mba + mbd_mba)\n",
    "        mbd = mbd - mbd_mba - mbd_CO2_maintn + mba_mbd\n",
    "    end\n",
    "end"
   ]
  },
  {
   "cell_type": "code",
   "execution_count": 9,
   "metadata": {},
   "outputs": [
    {
     "data": {
      "text/plain": [
       "14"
      ]
     },
     "metadata": {},
     "output_type": "display_data"
    }
   ],
   "source": [
    "(1+2\n",
    "+3+4\n",
    "+4)"
   ]
  },
  {
   "cell_type": "code",
   "execution_count": null,
   "metadata": {},
   "outputs": [],
   "source": []
  }
 ],
 "metadata": {
  "kernelspec": {
   "display_name": "Julia 1.7.1",
   "language": "julia",
   "name": "julia-1.7"
  },
  "language_info": {
   "file_extension": ".jl",
   "mimetype": "application/julia",
   "name": "julia",
   "version": "1.7.1"
  },
  "orig_nbformat": 4
 },
 "nbformat": 4,
 "nbformat_minor": 2
}
